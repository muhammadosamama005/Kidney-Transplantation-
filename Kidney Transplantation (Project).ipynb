{
 "cells": [
  {
   "cell_type": "code",
   "execution_count": 7,
   "id": "4d599e2e",
   "metadata": {},
   "outputs": [],
   "source": [
    "import os\n",
    "os.getcwd()\n",
    "os.chdir(\"C:\\\\Users\\\\14704\\\\Desktop\\\\University of Tulsa\\\\Data Mining\\\\Project\")\n",
    "import pandas as pd\n",
    "df=pd.read_csv(\"Dataset-Kidney.csv\")"
   ]
  },
  {
   "cell_type": "code",
   "execution_count": 9,
   "id": "3e59df92",
   "metadata": {},
   "outputs": [
    {
     "name": "stdout",
     "output_type": "stream",
     "text": [
      "(31207, 43)\n",
      "Number of Rows:  31207\n",
      "Number of Columns:  43\n"
     ]
    }
   ],
   "source": [
    "#checking the shape of DataFrame\n",
    "print(df.shape)\n",
    "num_rows,num_columns=df.shape\n",
    "print(\"Number of Rows: \", num_rows)\n",
    "print(\"Number of Columns: \", num_columns)"
   ]
  },
  {
   "cell_type": "code",
   "execution_count": 11,
   "id": "867d8f5a",
   "metadata": {},
   "outputs": [
    {
     "name": "stdout",
     "output_type": "stream",
     "text": [
      "Numerical columns: Index(['AGE', 'BMI_CALC', 'COD_CAD_DON', 'SERUM_CREAT', 'CREAT_TRR',\n",
      "       'DAYSWAIT_CHRON_KI', 'DEATH_CIRCUM_DON', 'DIAB', 'EDUCATION', 'ETHCAT',\n",
      "       'ETHCAT_DON', 'FUNC_STAT_TCR', 'HGT_CM_CALC', 'HIST_DIABETES_DON',\n",
      "       'HLAMIS', 'INIT_AGE', 'INIT_STAT', 'KDRI_MED', 'KDRI_RAO',\n",
      "       'MED_COND_TRR', 'NPKID', 'PRI_PAYMENT_TCR_KI', 'REGION', 'SGPT_DON',\n",
      "       'TX_PROCEDUR_TY_KI', 'WGT_KG_CALC', 'WGT_KG_DON_CALC'],\n",
      "      dtype='object')\n",
      "Categorical columns: Index(['RSK_LEVEL', 'CARDARREST_NEURO', 'CMV_IGM', 'DIABETES_DON',\n",
      "       'EBV_IGG_CAD_DON', 'EBV_IGM_CAD_DON', 'HBSAB_DON', 'INSULIN_DON',\n",
      "       'LT_KI_BIOPSY', 'ON_DIALYSIS', 'PRE_TX_TXFUS', 'PUMP_KI',\n",
      "       'RT_KI_BIOPSY', 'TRTREJ1Y_KI', 'TRTREJ6M_KI', 'WORK_INCOME_TCR'],\n",
      "      dtype='object')\n"
     ]
    }
   ],
   "source": [
    "#checking Numerical and categorical columns in the dataset\n",
    "numerical_cols=df.select_dtypes(include=['int64','float64']).columns\n",
    "print(\"Numerical columns:\", numerical_cols)\n",
    "#Now checking the Categorical columns in the dataset\n",
    "categorical_cols=df.select_dtypes(include=['object','category']).columns\n",
    "print(\"Categorical columns:\", categorical_cols)"
   ]
  },
  {
   "cell_type": "code",
   "execution_count": 12,
   "id": "04230e59",
   "metadata": {},
   "outputs": [
    {
     "name": "stdout",
     "output_type": "stream",
     "text": [
      "Missing values in numerical columns:\n",
      "AGE: No missing values\n",
      "BMI_CALC: No missing values\n",
      "COD_CAD_DON: No missing values\n",
      "SERUM_CREAT: No missing values\n",
      "CREAT_TRR: No missing values\n",
      "DAYSWAIT_CHRON_KI: 16 missing values\n",
      "DEATH_CIRCUM_DON: No missing values\n",
      "DIAB: 11 missing values\n",
      "EDUCATION: 12 missing values\n",
      "ETHCAT: No missing values\n",
      "ETHCAT_DON: No missing values\n",
      "FUNC_STAT_TCR: No missing values\n",
      "HGT_CM_CALC: No missing values\n",
      "HIST_DIABETES_DON: No missing values\n",
      "HLAMIS: 6 missing values\n",
      "INIT_AGE: No missing values\n",
      "INIT_STAT: No missing values\n",
      "KDRI_MED: 93 missing values\n",
      "KDRI_RAO: 93 missing values\n",
      "MED_COND_TRR: No missing values\n",
      "NPKID: No missing values\n",
      "PRI_PAYMENT_TCR_KI: 12 missing values\n",
      "REGION: No missing values\n",
      "SGPT_DON: 55 missing values\n",
      "TX_PROCEDUR_TY_KI: No missing values\n",
      "WGT_KG_CALC: No missing values\n",
      "WGT_KG_DON_CALC: No missing values\n"
     ]
    }
   ],
   "source": [
    "#Next step is to check missing values in both numerical columns\n",
    "#Uptill now I am preparing my data ready to use so that i can perform machine learning tecniques further\n",
    "print(\"Missing values in numerical columns:\")\n",
    "for col in numerical_cols:\n",
    "    missing_count = df[col].isna().sum()\n",
    "    if missing_count > 0:  # Only print columns with missing values\n",
    "        print(f\"{col}: {missing_count} missing values\")\n",
    "    else:\n",
    "        print(f\"{col}: No missing values\")"
   ]
  },
  {
   "cell_type": "code",
   "execution_count": 13,
   "id": "575128f4",
   "metadata": {},
   "outputs": [
    {
     "name": "stdout",
     "output_type": "stream",
     "text": [
      "Missing values in categorical columns:\n",
      "RSK_LEVEL: No missing values\n",
      "CARDARREST_NEURO: No missing values\n",
      "CMV_IGM: No missing values\n",
      "DIABETES_DON: No missing values\n",
      "EBV_IGG_CAD_DON: 8557 missing values\n",
      "EBV_IGM_CAD_DON: 8557 missing values\n",
      "HBSAB_DON: 8560 missing values\n",
      "INSULIN_DON: No missing values\n",
      "LT_KI_BIOPSY: 21 missing values\n",
      "ON_DIALYSIS: No missing values\n",
      "PRE_TX_TXFUS: No missing values\n",
      "PUMP_KI: No missing values\n",
      "RT_KI_BIOPSY: 16 missing values\n",
      "TRTREJ1Y_KI: 10134 missing values\n",
      "TRTREJ6M_KI: 8289 missing values\n",
      "WORK_INCOME_TCR: 9951 missing values\n"
     ]
    }
   ],
   "source": [
    "#Checking missing values for categorical columns.\n",
    "print(\"Missing values in categorical columns:\")\n",
    "for col in categorical_cols:\n",
    "    missing_count = df[col].isna().sum()\n",
    "    if missing_count > 0:  # Only print columns with missing values\n",
    "        print(f\"{col}: {missing_count} missing values\")\n",
    "    else:\n",
    "        print(f\"{col}: No missing values\")"
   ]
  },
  {
   "cell_type": "code",
   "execution_count": 15,
   "id": "e6517806",
   "metadata": {},
   "outputs": [
    {
     "name": "stdout",
     "output_type": "stream",
     "text": [
      "\n",
      "Missing values in numerical columns after imputation:\n",
      "AGE: 0 missing values\n",
      "BMI_CALC: 0 missing values\n",
      "COD_CAD_DON: 0 missing values\n",
      "SERUM_CREAT: 0 missing values\n",
      "CREAT_TRR: 0 missing values\n",
      "DAYSWAIT_CHRON_KI: 0 missing values\n",
      "DEATH_CIRCUM_DON: 0 missing values\n",
      "DIAB: 0 missing values\n",
      "EDUCATION: 0 missing values\n",
      "ETHCAT: 0 missing values\n",
      "ETHCAT_DON: 0 missing values\n",
      "FUNC_STAT_TCR: 0 missing values\n",
      "HGT_CM_CALC: 0 missing values\n",
      "HIST_DIABETES_DON: 0 missing values\n",
      "HLAMIS: 0 missing values\n",
      "INIT_AGE: 0 missing values\n",
      "INIT_STAT: 0 missing values\n",
      "KDRI_MED: 0 missing values\n",
      "KDRI_RAO: 0 missing values\n",
      "MED_COND_TRR: 0 missing values\n",
      "NPKID: 0 missing values\n",
      "PRI_PAYMENT_TCR_KI: 0 missing values\n",
      "REGION: 0 missing values\n",
      "SGPT_DON: 0 missing values\n",
      "TX_PROCEDUR_TY_KI: 0 missing values\n",
      "WGT_KG_CALC: 0 missing values\n",
      "WGT_KG_DON_CALC: 0 missing values\n"
     ]
    }
   ],
   "source": [
    "from sklearn.experimental import enable_iterative_imputer  # This is necessary for IterativeImputer\n",
    "from sklearn.impute import IterativeImputer\n",
    "from sklearn.linear_model import BayesianRidge\n",
    "imputer=IterativeImputer(estimator=BayesianRidge(),max_iter=10,random_state=0)\n",
    "#Explanation of above code BayesianRidge applies Bayesian ridge regression to fill missing values\n",
    "#This is the maximum number of imputation rounds to perform before returning the imputed data\n",
    "df[numerical_cols] = imputer.fit_transform(df[numerical_cols])\n",
    "print(\"\\nMissing values in numerical columns after imputation:\")\n",
    "for col in numerical_cols:\n",
    "    missing_count = df[col].isna().sum()  # After imputation, this should be 0\n",
    "    print(f\"{col}: {missing_count} missing values\")"
   ]
  },
  {
   "cell_type": "code",
   "execution_count": 17,
   "id": "a879c029",
   "metadata": {},
   "outputs": [
    {
     "name": "stdout",
     "output_type": "stream",
     "text": [
      "\n",
      "Missing values in categorical columns after imputation:\n",
      "RSK_LEVEL: 0 missing values\n",
      "CARDARREST_NEURO: 0 missing values\n",
      "CMV_IGM: 0 missing values\n",
      "DIABETES_DON: 0 missing values\n",
      "EBV_IGG_CAD_DON: 0 missing values\n",
      "EBV_IGM_CAD_DON: 0 missing values\n",
      "HBSAB_DON: 0 missing values\n",
      "INSULIN_DON: 0 missing values\n",
      "LT_KI_BIOPSY: 0 missing values\n",
      "ON_DIALYSIS: 0 missing values\n",
      "PRE_TX_TXFUS: 0 missing values\n",
      "PUMP_KI: 0 missing values\n",
      "RT_KI_BIOPSY: 0 missing values\n",
      "TRTREJ1Y_KI: 0 missing values\n",
      "TRTREJ6M_KI: 0 missing values\n",
      "WORK_INCOME_TCR: 0 missing values\n"
     ]
    }
   ],
   "source": [
    "from sklearn.impute import SimpleImputer\n",
    "imputer = SimpleImputer(strategy='most_frequent')\n",
    "#this is tecnique used to fill most frequently occur column with missing columns of we can say that missing values are filled\n",
    "#with mode values\n",
    "df[categorical_cols] = imputer.fit_transform(df[categorical_cols])\n",
    "\n",
    "# Check and print missing values in each categorical column after imputation\n",
    "print(\"\\nMissing values in categorical columns after imputation:\")\n",
    "for col in categorical_cols:\n",
    "    missing_count = df[col].isna().sum()  # After imputation, this should be 0\n",
    "    print(f\"{col}: {missing_count} missing values\")"
   ]
  },
  {
   "cell_type": "code",
   "execution_count": 18,
   "id": "cf7546bc",
   "metadata": {},
   "outputs": [
    {
     "name": "stdout",
     "output_type": "stream",
     "text": [
      "                AGE      BMI_CALC   COD_CAD_DON   SERUM_CREAT     CREAT_TRR  \\\n",
      "count  31207.000000  31207.000000  31207.000000  31207.000000  31207.000000   \n",
      "mean      51.812029     27.700197     25.143525      1.132897      7.960706   \n",
      "std       15.014519      5.631499    149.450667      0.888042      3.422989   \n",
      "min        0.000000     10.459062      1.000000      0.100000      0.270000   \n",
      "25%       43.000000     23.618698      2.000000      0.700000      5.500000   \n",
      "50%       54.000000     27.261897      2.000000      1.000000      7.500000   \n",
      "75%       63.000000     31.383790      3.000000      1.300000      9.945000   \n",
      "max       90.000000     72.177564    999.000000     25.000000     25.000000   \n",
      "\n",
      "       DAYSWAIT_CHRON_KI  DEATH_CIRCUM_DON          DIAB     EDUCATION  \\\n",
      "count       31207.000000      31207.000000  31207.000000  31207.000000   \n",
      "mean          773.634139        221.397090     10.698769    128.694149   \n",
      "std           681.956124        410.708884     93.273611    329.687116   \n",
      "min          -662.374436          1.000000      1.000000      1.000000   \n",
      "25%           235.000000          2.000000      1.000000      3.000000   \n",
      "50%           606.000000          6.000000      1.000000      3.000000   \n",
      "75%          1134.000000          6.000000      3.000000      5.000000   \n",
      "max          8169.000000        997.000000    998.000000    998.000000   \n",
      "\n",
      "             ETHCAT  ...      KDRI_MED      KDRI_RAO  MED_COND_TRR  \\\n",
      "count  31207.000000  ...  31207.000000  31207.000000  31207.000000   \n",
      "mean       2.035729  ...      1.062097      1.297637      2.962733   \n",
      "std        1.404655  ...      0.353988      0.432492      0.235430   \n",
      "min        1.000000  ...      0.503677      0.615377      1.000000   \n",
      "25%        1.000000  ...      0.779019      0.951781      3.000000   \n",
      "50%        2.000000  ...      0.998138      1.219494      3.000000   \n",
      "75%        2.000000  ...      1.271421      1.553382      3.000000   \n",
      "max        9.000000  ...      3.016502      3.685470      3.000000   \n",
      "\n",
      "              NPKID  PRI_PAYMENT_TCR_KI        REGION      SGPT_DON  \\\n",
      "count  31207.000000        31207.000000  31207.000000  31207.000000   \n",
      "mean       0.124139            3.774594      5.895248     96.094501   \n",
      "std        0.367610            3.998492      3.181295    312.056705   \n",
      "min        0.000000            1.000000      1.000000      0.200000   \n",
      "25%        0.000000            1.000000      3.000000     22.000000   \n",
      "50%        0.000000            3.000000      5.000000     36.000000   \n",
      "75%        0.000000            4.000000      9.000000     66.000000   \n",
      "max        5.000000           14.000000     11.000000  11021.000000   \n",
      "\n",
      "       TX_PROCEDUR_TY_KI   WGT_KG_CALC  WGT_KG_DON_CALC  \n",
      "count       31207.000000  31207.000000     31207.000000  \n",
      "mean          101.571346     80.321743        78.725915  \n",
      "std             0.590654     20.334679        23.813278  \n",
      "min           101.000000      7.711100         2.500000  \n",
      "25%           101.000000     66.678100        65.000000  \n",
      "50%           102.000000     79.378700        77.500000  \n",
      "75%           102.000000     93.200000        91.172100  \n",
      "max           104.000000    200.000000       200.000000  \n",
      "\n",
      "[8 rows x 27 columns]\n"
     ]
    }
   ],
   "source": [
    "#Summary of all Numerical Columns\n",
    "print(df[numerical_cols].describe())"
   ]
  },
  {
   "cell_type": "code",
   "execution_count": 19,
   "id": "7eb75b9c",
   "metadata": {},
   "outputs": [
    {
     "name": "stdout",
     "output_type": "stream",
     "text": [
      "       RSK_LEVEL CARDARREST_NEURO CMV_IGM DIABETES_DON EBV_IGG_CAD_DON  \\\n",
      "count      31207            31207   31207        31207           31207   \n",
      "unique         3                2       4            3               6   \n",
      "top         High                N       N            N               P   \n",
      "freq       13089            29095   17555        28628           25441   \n",
      "\n",
      "       EBV_IGM_CAD_DON HBSAB_DON INSULIN_DON LT_KI_BIOPSY ON_DIALYSIS  \\\n",
      "count            31207     31207       31207        31207       31207   \n",
      "unique               6         6           3            2           2   \n",
      "top                  N        ND           Y            N           Y   \n",
      "freq             24411     24235       18611        17581       25392   \n",
      "\n",
      "       PRE_TX_TXFUS PUMP_KI RT_KI_BIOPSY TRTREJ1Y_KI TRTREJ6M_KI  \\\n",
      "count         31207   31207        31207       31207       31207   \n",
      "unique            3       2            2           2           2   \n",
      "top               N       N            N           N           N   \n",
      "freq          21294   20913        17348       28289       28568   \n",
      "\n",
      "       WORK_INCOME_TCR  \n",
      "count            31207  \n",
      "unique               3  \n",
      "top                  N  \n",
      "freq             24379  \n"
     ]
    }
   ],
   "source": [
    "print(df[categorical_cols].describe())"
   ]
  },
  {
   "cell_type": "code",
   "execution_count": null,
   "id": "e8fe94c0",
   "metadata": {},
   "outputs": [],
   "source": []
  },
  {
   "cell_type": "code",
   "execution_count": null,
   "id": "6b4d634a",
   "metadata": {},
   "outputs": [],
   "source": []
  }
 ],
 "metadata": {
  "kernelspec": {
   "display_name": "Python 3 (ipykernel)",
   "language": "python",
   "name": "python3"
  },
  "language_info": {
   "codemirror_mode": {
    "name": "ipython",
    "version": 3
   },
   "file_extension": ".py",
   "mimetype": "text/x-python",
   "name": "python",
   "nbconvert_exporter": "python",
   "pygments_lexer": "ipython3",
   "version": "3.9.13"
  }
 },
 "nbformat": 4,
 "nbformat_minor": 5
}
